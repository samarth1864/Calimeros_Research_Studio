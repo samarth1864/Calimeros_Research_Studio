{
  "nbformat": 4,
  "nbformat_minor": 0,
  "metadata": {
    "colab": {
      "provenance": [],
      "authorship_tag": "ABX9TyP3qnIZlbzsCNxplc/R6rUV",
      "include_colab_link": true
    },
    "kernelspec": {
      "name": "python3",
      "display_name": "Python 3"
    },
    "language_info": {
      "name": "python"
    }
  },
  "cells": [
    {
      "cell_type": "markdown",
      "metadata": {
        "id": "view-in-github",
        "colab_type": "text"
      },
      "source": [
        "<a href=\"https://colab.research.google.com/github/samarth1864/Calimeros_Research_Studio/blob/main/Calimeros_Research_Studio.ipynb\" target=\"_parent\"><img src=\"https://colab.research.google.com/assets/colab-badge.svg\" alt=\"Open In Colab\"/></a>"
      ]
    },
    {
      "cell_type": "code",
      "execution_count": null,
      "metadata": {
        "id": "_x7VJ3Khvrv0"
      },
      "outputs": [],
      "source": [
        "Calimeros Research Studio"
      ]
    },
    {
      "cell_type": "markdown",
      "source": [],
      "metadata": {
        "id": "wBqoAIwDvskq"
      }
    },
    {
      "cell_type": "code",
      "source": [],
      "metadata": {
        "id": "SAnhkzl3vve4"
      },
      "execution_count": null,
      "outputs": []
    },
    {
      "cell_type": "markdown",
      "source": [
        "### Mapping the Invisible - Prediction of unknown datapoints through Random Forest Decision tree\n",
        "\n",
        "To predict unknown climatic data points across the city, a Random Forest Decision Tree method is employed, leveraging its accuracy and robustness in handling complex datasets. This approach uses existing IoT sensor data and applies feature engineering to enrich the dataset. By triangulating data with these parameters, the model ensures precise predictions for unmonitored locations, enabling accurate insights for the identified locations."
      ],
      "metadata": {
        "id": "MWll1LK0vylt"
      }
    },
    {
      "cell_type": "code",
      "source": [
        "import pandas as pd\n",
        "import numpy as np\n",
        "from sklearn.model_selection import train_test_split\n",
        "from sklearn.ensemble import RandomForestRegressor\n",
        "from sklearn.metrics import mean_squared_error, r2_score\n",
        "from sklearn.cluster import KMeans\n",
        "\n",
        "file_path = '/content/Existing_IOT_Barcelona (1).xlsx'\n",
        "data = pd.read_excel(file_path, sheet_name='Sheet1')\n",
        "\n",
        "# Define a city center (approximate coordinates for Barcelona)\n",
        "city_center_lat, city_center_lon = 41.3851, 2.1734\n",
        "\n",
        "# Feature Engineering\n",
        "data['Distance_to_Center'] = np.sqrt((data['Latitude'] - city_center_lat)**2 +\n",
        "                                     (data['Longitude'] - city_center_lon)**2)\n",
        "data['Lat_Lon_Product'] = data['Latitude'] * data['Longitude']\n",
        "\n",
        "# Add clustering (group similar locations)\n",
        "kmeans = KMeans(n_clusters=3, random_state=42)\n",
        "data['Cluster'] = kmeans.fit_predict(data[['Latitude', 'Longitude']])\n",
        "\n",
        "# Features: Latitude, Longitude, Distance to Center, Lat-Lon Product, Cluster\n",
        "X = data[['Latitude', 'Longitude', 'Distance_to_Center', 'Lat_Lon_Product', 'Cluster']]\n",
        "\n",
        "# Targets: Temperature, Rainfall, AQI, Humidity\n",
        "y_temp = data['Avg Annual Temp (°C)']\n",
        "y_rainfall = data['Avg Annual Rainfall (mm)']\n",
        "y_aqi = data['Avg Annual AQI']\n",
        "y_humidity = data['Avg Annual Humidity (%)']\n",
        "\n",
        "# Split the data into training and testing sets\n",
        "X_train, X_test, y_temp_train, y_temp_test = train_test_split(X, y_temp, test_size=0.2, random_state=42)\n",
        "_, _, y_rainfall_train, y_rainfall_test = train_test_split(X, y_rainfall, test_size=0.2, random_state=42)\n",
        "_, _, y_aqi_train, y_aqi_test = train_test_split(X, y_aqi, test_size=0.2, random_state=42)\n",
        "_, _, y_humidity_train, y_humidity_test = train_test_split(X, y_humidity, test_size=0.2, random_state=42)\n",
        "\n",
        "# Train separate Random Forest models for each target variable\n",
        "rf_temp = RandomForestRegressor(random_state=42)\n",
        "rf_temp.fit(X_train, y_temp_train)\n",
        "\n",
        "rf_rainfall = RandomForestRegressor(random_state=42)\n",
        "rf_rainfall.fit(X_train, y_rainfall_train)\n",
        "\n",
        "rf_aqi = RandomForestRegressor(random_state=42)\n",
        "rf_aqi.fit(X_train, y_aqi_train)\n",
        "\n",
        "rf_humidity = RandomForestRegressor(random_state=42)\n",
        "rf_humidity.fit(X_train, y_humidity_train)\n",
        "\n",
        "# Evaluate models on the test set\n",
        "def evaluate_model(model, X_test, y_test, target_name):\n",
        "    predictions = model.predict(X_test)\n",
        "    mse = mean_squared_error(y_test, predictions)\n",
        "    r2 = r2_score(y_test, predictions)\n",
        "    print(f\"{target_name} - Mean Squared Error: {mse:.2f}, R2 Score: {r2:.2f}\")\n",
        "    return predictions\n",
        "\n",
        "print(\"Model Evaluation:\")\n",
        "evaluate_model(rf_temp, X_test, y_temp_test, \"Temperature\")\n",
        "evaluate_model(rf_rainfall, X_test, y_rainfall_test, \"Rainfall\")\n",
        "evaluate_model(rf_aqi, X_test, y_aqi_test, \"AQI\")\n",
        "evaluate_model(rf_humidity, X_test, y_humidity_test, \"Humidity\")\n",
        "\n",
        "# Predict values for new coordinates\n",
        "def predict_climatic_values(lat, lon):\n",
        "    distance_to_center = np.sqrt((lat - city_center_lat)**2 + (lon - city_center_lon)**2)\n",
        "    lat_lon_product = lat * lon\n",
        "    cluster = kmeans.predict([[lat, lon]])[0]\n",
        "    coords = np.array([[lat, lon, distance_to_center, lat_lon_product, cluster]])\n",
        "    temp = rf_temp.predict(coords)[0]\n",
        "    rainfall = rf_rainfall.predict(coords)[0]\n",
        "    aqi = rf_aqi.predict(coords)[0]\n",
        "    humidity = rf_humidity.predict(coords)[0]\n",
        "    return round(temp, 2), round(rainfall, 2), round(aqi, 2), round(humidity, 2)\n",
        "\n",
        "# Example: Predict values for a new location\n",
        "latitude = float(input(\"Enter Latitude: \"))\n",
        "longitude = float(input(\"Enter Longitude: \"))\n",
        "\n",
        "temp, rainfall, aqi, humidity = predict_climatic_values(latitude, longitude)\n",
        "print(f\"\\nPredicted values at ({latitude}, {longitude}):\")\n",
        "print(f\"Temperature: {temp} °C\")\n",
        "print(f\"Rainfall: {rainfall} mm\")\n",
        "print(f\"AQI: {aqi}\")\n",
        "print(f\"Humidity: {humidity} %\")\n"
      ],
      "metadata": {
        "id": "y4qabfpQvxQ1"
      },
      "execution_count": null,
      "outputs": []
    }
  ]
}